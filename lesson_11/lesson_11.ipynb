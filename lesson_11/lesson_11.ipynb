{
 "cells": [
  {
   "cell_type": "markdown",
   "metadata": {},
   "source": [
    "# Тема “Ряды”"
   ]
  },
  {
   "cell_type": "code",
   "execution_count": 1,
   "metadata": {},
   "outputs": [],
   "source": [
    "import sympy as sym\n",
    "from IPython.display import Image"
   ]
  },
  {
   "cell_type": "code",
   "execution_count": 2,
   "metadata": {},
   "outputs": [],
   "source": [
    "def ratio_test(series):\n",
    "    lim = sym.limit(series.subs(n, n+1)/series, n, sym.oo)\n",
    "    if lim < 1:\n",
    "        print(f'Ряд сходится')\n",
    "    elif lim > 1:\n",
    "        print(f'Ряд расходится')\n",
    "    else:\n",
    "        print(f'Необходимы дальнейшие исследования, данный метод не дает решения')\n",
    "    return series\n",
    "\n",
    "def root_test(series):\n",
    "    lim = sym.limit(pow(series, 1/n), n, sym.oo)\n",
    "    if lim < 1:\n",
    "        print(f'Ряд сходится')\n",
    "    elif lim > 1:\n",
    "        print(f'Ряд расходится')\n",
    "    else:\n",
    "        print(f'Необходимы дальнейшие исследования, данный метод не дает решения')\n",
    "    return series\n",
    "\n",
    "def leibniz_test(series):\n",
    "    lim = sym.limit(abs(series), n, sym.oo)\n",
    "    if lim == 0 :\n",
    "        if abs(series.subs(n, 1)) >= abs(series.subs(n, 2)):\n",
    "            print(f'Ряд сходится')\n",
    "        else:\n",
    "            print(f'Ряд расходится')\n",
    "    else:\n",
    "            print(f'Ряд расходится')\n",
    "    return series\n",
    "\n",
    "def raabe_test(series):\n",
    "    lim = sym.limit(n*(series/series.subs(n, n+1) - 1), n, sym.oo)\n",
    "    if lim > 1:\n",
    "        print(f'Ряд сходится')\n",
    "    elif lim < 1:\n",
    "        print(f'Ряд расходится')\n",
    "    else:\n",
    "        print(f'Необходимы дальнейшие исследования, данный метод не дает решения')\n",
    "    return series"
   ]
  },
  {
   "cell_type": "code",
   "execution_count": 3,
   "metadata": {},
   "outputs": [],
   "source": [
    "n = sym.symbols('n')"
   ]
  },
  {
   "cell_type": "markdown",
   "metadata": {},
   "source": [
    "__Задание 1__"
   ]
  },
  {
   "cell_type": "code",
   "execution_count": 4,
   "metadata": {},
   "outputs": [
    {
     "data": {
      "image/png": "[encoded data removed]",
      "text/plain": [
       "<IPython.core.display.Image object>"
      ]
     },
     "execution_count": 4,
     "metadata": {},
     "output_type": "execute_result"
    }
   ],
   "source": [
    "# признак д'Аламбера\n",
    "Image('task_11_1.png')"
   ]
  },
  {
   "cell_type": "code",
   "execution_count": 5,
   "metadata": {},
   "outputs": [
    {
     "name": "stdout",
     "output_type": "stream",
     "text": [
      "Ряд сходится\n"
     ]
    },
    {
     "data": {
      "text/latex": [
       "$\\displaystyle \\frac{n^{n}}{n!^{2}}$"
      ],
      "text/plain": [
       "n**n/factorial(n)**2"
      ]
     },
     "execution_count": 5,
     "metadata": {},
     "output_type": "execute_result"
    }
   ],
   "source": [
    "ratio_test(n**n/pow(sym.factorial(n),2))"
   ]
  },
  {
   "cell_type": "markdown",
   "metadata": {},
   "source": [
    "__Задание 2__"
   ]
  },
  {
   "cell_type": "code",
   "execution_count": 6,
   "metadata": {},
   "outputs": [
    {
     "data": {
      "image/png": "[encoded data removed]",
      "text/plain": [
       "<IPython.core.display.Image object>"
      ]
     },
     "execution_count": 6,
     "metadata": {},
     "output_type": "execute_result"
    }
   ],
   "source": [
    "# Радикальный признак Коши\n",
    "Image('task_11_2.png')"
   ]
  },
  {
   "cell_type": "code",
   "execution_count": 7,
   "metadata": {},
   "outputs": [
    {
     "name": "stdout",
     "output_type": "stream",
     "text": [
      "Ряд сходится\n"
     ]
    },
    {
     "data": {
      "text/latex": [
       "$\\displaystyle 2^{- n} n$"
      ],
      "text/plain": [
       "2**(-n)*n"
      ]
     },
     "execution_count": 7,
     "metadata": {},
     "output_type": "execute_result"
    }
   ],
   "source": [
    "root_test(n/pow(2,n))"
   ]
  },
  {
   "cell_type": "markdown",
   "metadata": {},
   "source": [
    "__Задание 3__"
   ]
  },
  {
   "cell_type": "code",
   "execution_count": 8,
   "metadata": {},
   "outputs": [
    {
     "data": {
      "image/png": "[encoded data removed]",
      "text/plain": [
       "<IPython.core.display.Image object>"
      ]
     },
     "execution_count": 8,
     "metadata": {},
     "output_type": "execute_result"
    }
   ],
   "source": [
    "# Признак Лейбница\n",
    "Image('task_11_3.png')"
   ]
  },
  {
   "cell_type": "code",
   "execution_count": 9,
   "metadata": {},
   "outputs": [
    {
     "name": "stdout",
     "output_type": "stream",
     "text": [
      "Ряд сходится\n"
     ]
    },
    {
     "data": {
      "text/latex": [
       "$\\displaystyle \\frac{\\left(-1\\right)^{n}}{n + \\log{\\left(n \\right)}}$"
      ],
      "text/plain": [
       "(-1)**n/(n + log(n))"
      ]
     },
     "execution_count": 9,
     "metadata": {},
     "output_type": "execute_result"
    }
   ],
   "source": [
    "leibniz_test(pow(-1, n)/(n + sym.log(n)))"
   ]
  },
  {
   "cell_type": "markdown",
   "metadata": {},
   "source": [
    "__Задание 4__"
   ]
  },
  {
   "cell_type": "code",
   "execution_count": 10,
   "metadata": {},
   "outputs": [
    {
     "data": {
      "image/png": "[encoded data removed]",
      "text/plain": [
       "<IPython.core.display.Image object>"
      ]
     },
     "execution_count": 10,
     "metadata": {},
     "output_type": "execute_result"
    }
   ],
   "source": [
    "# Признак Раабе\n",
    "Image('task_11_4.png')"
   ]
  },
  {
   "cell_type": "code",
   "execution_count": 11,
   "metadata": {},
   "outputs": [
    {
     "name": "stdout",
     "output_type": "stream",
     "text": [
      "Ряд расходится\n"
     ]
    },
    {
     "data": {
      "text/latex": [
       "$\\displaystyle 2^{- n} 3^{n}$"
      ],
      "text/plain": [
       "2**(-n)*3**n"
      ]
     },
     "execution_count": 11,
     "metadata": {},
     "output_type": "execute_result"
    }
   ],
   "source": [
    "raabe_test(3**n/2**n)"
   ]
  },
  {
   "cell_type": "markdown",
   "metadata": {},
   "source": [
    "__Задание 5__  \n",
    "  \n",
    "Разложить функцию по Тейлору в единице:"
   ]
  },
  {
   "cell_type": "code",
   "execution_count": 12,
   "metadata": {},
   "outputs": [
    {
     "data": {
      "image/png": "[encoded data removed]",
      "text/plain": [
       "<IPython.core.display.Image object>"
      ]
     },
     "execution_count": 12,
     "metadata": {},
     "output_type": "execute_result"
    }
   ],
   "source": [
    "Image('task_11_5.png')"
   ]
  },
  {
   "cell_type": "markdown",
   "metadata": {},
   "source": [
    "__Задание 6__\n",
    "\n",
    "Разложить функцию в ряд Фурье по косинусам на отрезке [-pi,pi]"
   ]
  }
 ],
 "metadata": {
  "kernelspec": {
   "display_name": "Python 3",
   "language": "python",
   "name": "python3"
  },
  "language_info": {
   "codemirror_mode": {
    "name": "ipython",
    "version": 3
   },
   "file_extension": ".py",
   "mimetype": "text/x-python",
   "name": "python",
   "nbconvert_exporter": "python",
   "pygments_lexer": "ipython3",
   "version": "3.8.3"
  }
 },
 "nbformat": 4,
 "nbformat_minor": 4
}
