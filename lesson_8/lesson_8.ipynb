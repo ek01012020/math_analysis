{
 "cells": [
  {
   "cell_type": "markdown",
   "metadata": {},
   "source": [
    "# Домашнее задание по теме «Производные функций нескольких переменных»"
   ]
  },
  {
   "cell_type": "code",
   "execution_count": 1,
   "metadata": {},
   "outputs": [],
   "source": [
    "from IPython.display import Image\n",
    "import sympy as sym"
   ]
  },
  {
   "cell_type": "markdown",
   "metadata": {},
   "source": [
    "#### Задание 1  \n",
    "Найти область определения функции."
   ]
  },
  {
   "cell_type": "code",
   "execution_count": 2,
   "metadata": {},
   "outputs": [
    {
     "data": {
      "image/png": "[encoded data removed]",
      "text/plain": [
       "<IPython.core.display.Image object>"
      ]
     },
     "execution_count": 2,
     "metadata": {},
     "output_type": "execute_result"
    }
   ],
   "source": [
    "Image('task_8_1.png')"
   ]
  },
  {
   "cell_type": "code",
   "execution_count": 3,
   "metadata": {},
   "outputs": [],
   "source": [
    "x, y, dx, dy = sym.symbols('x, y, dx, dy')\n",
    "z = sym.Function('z')"
   ]
  },
  {
   "cell_type": "code",
   "execution_count": 4,
   "metadata": {},
   "outputs": [
    {
     "data": {
      "text/latex": [
       "$\\displaystyle x \\leq 1 \\wedge -\\infty < x$"
      ],
      "text/plain": [
       "(x <= 1) & (-oo < x)"
      ]
     },
     "execution_count": 4,
     "metadata": {},
     "output_type": "execute_result"
    }
   ],
   "source": [
    "sym.reduce_inequalities(1-x**3 >= 0,[])"
   ]
  },
  {
   "cell_type": "code",
   "execution_count": 5,
   "metadata": {},
   "outputs": [
    {
     "data": {
      "text/latex": [
       "$\\displaystyle \\left(-\\infty < y \\wedge y < -1\\right) \\vee \\left(1 < y \\wedge y < \\infty\\right)$"
      ],
      "text/plain": [
       "((-oo < y) & (y < -1)) | ((1 < y) & (y < oo))"
      ]
     },
     "execution_count": 5,
     "metadata": {},
     "output_type": "execute_result"
    }
   ],
   "source": [
    "sym.reduce_inequalities(y**2-1 > 0,[])"
   ]
  },
  {
   "cell_type": "markdown",
   "metadata": {},
   "source": [
    "__Задание 2__  \n",
    "Найти производные 1-го порядка функции."
   ]
  },
  {
   "cell_type": "code",
   "execution_count": 6,
   "metadata": {},
   "outputs": [
    {
     "data": {
      "image/png": "[encoded data removed]",
      "text/plain": [
       "<IPython.core.display.Image object>"
      ]
     },
     "execution_count": 6,
     "metadata": {},
     "output_type": "execute_result"
    }
   ],
   "source": [
    "Image('task_8_2.png')"
   ]
  },
  {
   "cell_type": "code",
   "execution_count": 7,
   "metadata": {},
   "outputs": [
    {
     "data": {
      "text/latex": [
       "$\\displaystyle \\left(\\frac{\\log{\\left(x \\right)}}{\\log{\\left(y \\right)}} + 1\\right)^{3}$"
      ],
      "text/plain": [
       "(log(x)/log(y) + 1)**3"
      ]
     },
     "execution_count": 7,
     "metadata": {},
     "output_type": "execute_result"
    }
   ],
   "source": [
    "z = pow(1+sym.log(x)/sym.log(y),3)\n",
    "z"
   ]
  },
  {
   "cell_type": "code",
   "execution_count": 8,
   "metadata": {},
   "outputs": [
    {
     "data": {
      "text/latex": [
       "$\\displaystyle \\frac{\\partial}{\\partial x} \\left(\\frac{\\log{\\left(x \\right)}}{\\log{\\left(y \\right)}} + 1\\right)^{3} = \\frac{3 \\left(\\frac{\\log{\\left(x \\right)}}{\\log{\\left(y \\right)}} + 1\\right)^{2}}{x \\log{\\left(y \\right)}}$"
      ],
      "text/plain": [
       "Eq(Derivative((log(x)/log(y) + 1)**3, x), 3*(log(x)/log(y) + 1)**2/(x*log(y)))"
      ]
     },
     "execution_count": 8,
     "metadata": {},
     "output_type": "execute_result"
    }
   ],
   "source": [
    "ax = sym.Derivative(z, x)\n",
    "sym.Eq(ax, ax.doit())"
   ]
  },
  {
   "cell_type": "code",
   "execution_count": 9,
   "metadata": {},
   "outputs": [
    {
     "data": {
      "text/latex": [
       "$\\displaystyle \\frac{\\partial}{\\partial y} \\left(\\frac{\\log{\\left(x \\right)}}{\\log{\\left(y \\right)}} + 1\\right)^{3} = - \\frac{3 \\left(\\frac{\\log{\\left(x \\right)}}{\\log{\\left(y \\right)}} + 1\\right)^{2} \\log{\\left(x \\right)}}{y \\log{\\left(y \\right)}^{2}}$"
      ],
      "text/plain": [
       "Eq(Derivative((log(x)/log(y) + 1)**3, y), -3*(log(x)/log(y) + 1)**2*log(x)/(y*log(y)**2))"
      ]
     },
     "execution_count": 9,
     "metadata": {},
     "output_type": "execute_result"
    }
   ],
   "source": [
    "ay = sym.Derivative(z, y)\n",
    "sym.Eq(ay, ay.doit())"
   ]
  },
  {
   "cell_type": "markdown",
   "metadata": {},
   "source": [
    "__Задание 3__  \n",
    "Найти полный дифференциал функции в точке (1;1)."
   ]
  },
  {
   "cell_type": "code",
   "execution_count": 10,
   "metadata": {},
   "outputs": [
    {
     "data": {
      "image/png": "[encoded data removed]",
      "text/plain": [
       "<IPython.core.display.Image object>"
      ]
     },
     "execution_count": 10,
     "metadata": {},
     "output_type": "execute_result"
    }
   ],
   "source": [
    "Image('task_8_3.png')"
   ]
  },
  {
   "cell_type": "code",
   "execution_count": 11,
   "metadata": {},
   "outputs": [
    {
     "data": {
      "text/latex": [
       "$\\displaystyle \\sqrt{2 x y + \\cos{\\left(\\frac{x}{y} \\right)}}$"
      ],
      "text/plain": [
       "sqrt(2*x*y + cos(x/y))"
      ]
     },
     "execution_count": 11,
     "metadata": {},
     "output_type": "execute_result"
    }
   ],
   "source": [
    "z = sym.sqrt(2*x*y + sym.cos(x/y))\n",
    "z"
   ]
  },
  {
   "cell_type": "code",
   "execution_count": 12,
   "metadata": {},
   "outputs": [
    {
     "data": {
      "text/latex": [
       "$\\displaystyle dx \\frac{\\partial}{\\partial x} \\sqrt{2 x y + \\cos{\\left(\\frac{x}{y} \\right)}} + dy \\frac{\\partial}{\\partial y} \\sqrt{2 x y + \\cos{\\left(\\frac{x}{y} \\right)}}$"
      ],
      "text/plain": [
       "dx*Derivative(sqrt(2*x*y + cos(x/y)), x) + dy*Derivative(sqrt(2*x*y + cos(x/y)), y)"
      ]
     },
     "execution_count": 12,
     "metadata": {},
     "output_type": "execute_result"
    }
   ],
   "source": [
    "sym.diff(z, x, evaluate=False)*dx + sym.diff(z, y, evaluate=False)*dy"
   ]
  },
  {
   "cell_type": "code",
   "execution_count": 13,
   "metadata": {},
   "outputs": [
    {
     "data": {
      "text/latex": [
       "$\\displaystyle \\frac{dx \\left(y - \\frac{\\sin{\\left(\\frac{x}{y} \\right)}}{2 y}\\right)}{\\sqrt{2 x y + \\cos{\\left(\\frac{x}{y} \\right)}}} + \\frac{dy \\left(x + \\frac{x \\sin{\\left(\\frac{x}{y} \\right)}}{2 y^{2}}\\right)}{\\sqrt{2 x y + \\cos{\\left(\\frac{x}{y} \\right)}}}$"
      ],
      "text/plain": [
       "dx*(y - sin(x/y)/(2*y))/sqrt(2*x*y + cos(x/y)) + dy*(x + x*sin(x/y)/(2*y**2))/sqrt(2*x*y + cos(x/y))"
      ]
     },
     "execution_count": 13,
     "metadata": {},
     "output_type": "execute_result"
    }
   ],
   "source": [
    "z_ = sym.diff(z, x)*dx + sym.diff(z, y)*dy\n",
    "z_"
   ]
  },
  {
   "cell_type": "markdown",
   "metadata": {},
   "source": [
    "__Задание 4__  \n",
    " Исследовать на экстремум функцию"
   ]
  },
  {
   "cell_type": "code",
   "execution_count": 14,
   "metadata": {},
   "outputs": [
    {
     "data": {
      "image/png": "[encoded data removed]",
      "text/plain": [
       "<IPython.core.display.Image object>"
      ]
     },
     "execution_count": 14,
     "metadata": {},
     "output_type": "execute_result"
    }
   ],
   "source": [
    "Image('task_8_4.png')"
   ]
  }
 ],
 "metadata": {
  "kernelspec": {
   "display_name": "Python 3",
   "language": "python",
   "name": "python3"
  },
  "language_info": {
   "codemirror_mode": {
    "name": "ipython",
    "version": 3
   },
   "file_extension": ".py",
   "mimetype": "text/x-python",
   "name": "python",
   "nbconvert_exporter": "python",
   "pygments_lexer": "ipython3",
   "version": "3.8.3"
  }
 },
 "nbformat": 4,
 "nbformat_minor": 4
}
