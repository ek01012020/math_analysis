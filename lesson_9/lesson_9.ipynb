{
 "cells": [
  {
   "cell_type": "markdown",
   "metadata": {},
   "source": [
    "## Исследовать функцию на условный экстремум"
   ]
  },
  {
   "cell_type": "code",
   "execution_count": 1,
   "metadata": {},
   "outputs": [],
   "source": [
    "from IPython.display import Image\n",
    "import sympy as sym"
   ]
  },
  {
   "cell_type": "code",
   "execution_count": 2,
   "metadata": {},
   "outputs": [
    {
     "data": {
      "image/png": "[encoded data removed]",
      "text/plain": [
       "<IPython.core.display.Image object>"
      ]
     },
     "execution_count": 2,
     "metadata": {},
     "output_type": "execute_result"
    }
   ],
   "source": [
    "Image('task_9_1.png')"
   ]
  },
  {
   "cell_type": "code",
   "execution_count": 3,
   "metadata": {},
   "outputs": [],
   "source": [
    "x, y, l = sym.symbols('x, y, l')"
   ]
  },
  {
   "cell_type": "code",
   "execution_count": 4,
   "metadata": {},
   "outputs": [],
   "source": [
    "u = 3 - 8*x +6*y\n",
    "u_extra = x**2 + y**2 -36"
   ]
  },
  {
   "cell_type": "code",
   "execution_count": 5,
   "metadata": {},
   "outputs": [],
   "source": [
    "def min_max_2(func, func2):\n",
    "    u_l = u + l*u_extra\n",
    "    print(u_l)\n",
    "    \n",
    "    list_roots = sym.solve([sym.diff(u_l, l), sym.diff(u_l, x), sym.diff(u_l, y)], (l, x, y))\n",
    "    print(f'Корни уравнения {list_roots}')\n",
    "    \n",
    "    ll = sym.diff(u_l, l, 2)\n",
    "    xx = sym.diff(u_l, x, 2)\n",
    "    yy = sym.diff(u_l, y, 2)\n",
    "    lx = sym.diff(u_l, l, x)\n",
    "    ly = sym.diff(u_l, l, y)\n",
    "    xy = sym.diff(u_l, x, y)\n",
    "    A = sym.Matrix([[ll,lx,ly],[lx,xx,xy],[ly,xy,yy]])\n",
    "    print(A,'\\n')\n",
    "    det_A = sym.det(A)\n",
    "    print(f'Определитель матрицы {det_A} \\n')\n",
    "    for ind, root in enumerate(list_roots):\n",
    "        dict_roots = {}\n",
    "        dict_roots[l] = list_roots[ind][0]\n",
    "        dict_roots[x] = list_roots[ind][1]\n",
    "        dict_roots[y] = list_roots[ind][2]\n",
    "        if det_A.subs(dict_roots) > 0:\n",
    "            print(f'В точке {(list_roots[ind][1],list_roots[ind][2])} - максимум')\n",
    "        elif det_A.subs(dict_roots) < 0:\n",
    "            print(f'В точке {(list_roots[ind][1],list_roots[ind][2])} - минимум')"
   ]
  },
  {
   "cell_type": "code",
   "execution_count": 6,
   "metadata": {},
   "outputs": [
    {
     "name": "stdout",
     "output_type": "stream",
     "text": [
      "l*(x**2 + y**2 - 36) - 8*x + 6*y + 3\n",
      "Корни уравнения [(-5/6, -24/5, 18/5), (5/6, 24/5, -18/5)]\n",
      "Matrix([[0, 2*x, 2*y], [2*x, 2*l, 0], [2*y, 0, 2*l]]) \n",
      "\n",
      "Определитель матрицы -8*l*x**2 - 8*l*y**2 \n",
      "\n",
      "В точке (-24/5, 18/5) - максимум\n",
      "В точке (24/5, -18/5) - минимум\n"
     ]
    }
   ],
   "source": [
    "min_max_2(u, u_extra)"
   ]
  },
  {
   "cell_type": "markdown",
   "metadata": {},
   "source": [
    "__Задание 2__"
   ]
  },
  {
   "cell_type": "code",
   "execution_count": 7,
   "metadata": {},
   "outputs": [
    {
     "data": {
      "text/latex": [
       "$\\displaystyle 2 x^{2} + 12 x y + 32 y^{2} + 15$"
      ],
      "text/plain": [
       "2*x**2 + 12*x*y + 32*y**2 + 15"
      ]
     },
     "execution_count": 7,
     "metadata": {},
     "output_type": "execute_result"
    }
   ],
   "source": [
    "u = 2*x**2 + 12*x*y +32*y**2 +15\n",
    "u"
   ]
  },
  {
   "cell_type": "code",
   "execution_count": 8,
   "metadata": {},
   "outputs": [
    {
     "data": {
      "text/latex": [
       "$\\displaystyle x^{2} + 16 y^{2} - 64$"
      ],
      "text/plain": [
       "x**2 + 16*y**2 - 64"
      ]
     },
     "execution_count": 8,
     "metadata": {},
     "output_type": "execute_result"
    }
   ],
   "source": [
    "u_extra = x**2 + 16*y**2 - 64\n",
    "u_extra"
   ]
  },
  {
   "cell_type": "code",
   "execution_count": 9,
   "metadata": {},
   "outputs": [
    {
     "name": "stdout",
     "output_type": "stream",
     "text": [
      "l*(x**2 + 16*y**2 - 64) + 2*x**2 + 12*x*y + 32*y**2 + 15\n",
      "Корни уравнения [(-7/2, -4*sqrt(2), -sqrt(2)), (-7/2, 4*sqrt(2), sqrt(2)), (-1/2, -4*sqrt(2), sqrt(2)), (-1/2, 4*sqrt(2), -sqrt(2))]\n",
      "Matrix([[0, 2*x, 32*y], [2*x, 2*(l + 2), 12], [32*y, 12, 32*(l + 2)]]) \n",
      "\n",
      "Определитель матрицы -128*l*x**2 - 2048*l*y**2 - 256*x**2 + 1536*x*y - 4096*y**2 \n",
      "\n",
      "В точке (-4*sqrt(2), -sqrt(2)) - максимум\n",
      "В точке (4*sqrt(2), sqrt(2)) - максимум\n",
      "В точке (-4*sqrt(2), sqrt(2)) - минимум\n",
      "В точке (4*sqrt(2), -sqrt(2)) - минимум\n"
     ]
    }
   ],
   "source": [
    "min_max_2(u, u_extra)"
   ]
  },
  {
   "cell_type": "markdown",
   "metadata": {},
   "source": [
    "__Задание 3__  \n",
    "Найти производную функции U по направлению вектора c=(-9,8,-12) в точку М(8,-12,9)"
   ]
  },
  {
   "cell_type": "code",
   "execution_count": 10,
   "metadata": {},
   "outputs": [
    {
     "data": {
      "image/png": "[encoded data removed]",
      "text/plain": [
       "<IPython.core.display.Image object>"
      ]
     },
     "execution_count": 10,
     "metadata": {},
     "output_type": "execute_result"
    }
   ],
   "source": [
    "Image('task_9_3.png')"
   ]
  },
  {
   "cell_type": "markdown",
   "metadata": {},
   "source": [
    "__Задание 4__  \n",
    "Найти производную функции U по направлению вектора d=(4,-13,-16) в точку L(-16,4,-13)"
   ]
  },
  {
   "cell_type": "code",
   "execution_count": 11,
   "metadata": {},
   "outputs": [
    {
     "data": {
      "image/png": "[encoded data removed]",
      "text/plain": [
       "<IPython.core.display.Image object>"
      ]
     },
     "execution_count": 11,
     "metadata": {},
     "output_type": "execute_result"
    }
   ],
   "source": [
    "Image('task_9_4.png')"
   ]
  }
 ],
 "metadata": {
  "kernelspec": {
   "display_name": "Python 3",
   "language": "python",
   "name": "python3"
  },
  "language_info": {
   "codemirror_mode": {
    "name": "ipython",
    "version": 3
   },
   "file_extension": ".py",
   "mimetype": "text/x-python",
   "name": "python",
   "nbconvert_exporter": "python",
   "pygments_lexer": "ipython3",
   "version": "3.8.3"
  }
 },
 "nbformat": 4,
 "nbformat_minor": 4
}
